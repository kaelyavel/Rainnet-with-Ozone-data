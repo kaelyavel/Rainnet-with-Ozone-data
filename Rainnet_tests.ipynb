{
  "nbformat": 4,
  "nbformat_minor": 0,
  "metadata": {
    "colab": {
      "name": "Rainnet_tests.ipynb",
      "provenance": [],
      "collapsed_sections": []
    },
    "kernelspec": {
      "name": "python3",
      "display_name": "Python 3"
    },
    "language_info": {
      "name": "python"
    },
    "accelerator": "GPU"
  },
  "cells": [
    {
      "cell_type": "markdown",
      "source": [
        "Adaptée pour le KHADRAOUI M.EL BACHIR pour le TER sur Rainnet"
      ],
      "metadata": {
        "id": "qQcPdTG16gCs"
      }
    },
    {
      "cell_type": "code",
      "source": [
        "from google.colab import drive\n",
        "drive.mount('/content/gdrive')"
      ],
      "metadata": {
        "colab": {
          "base_uri": "https://localhost:8080/"
        },
        "id": "_Ff13W29Mnh0",
        "outputId": "2cdcfb30-4947-41a7-af01-79fbb5b41c4b"
      },
      "execution_count": 1,
      "outputs": [
        {
          "output_type": "stream",
          "name": "stdout",
          "text": [
            "Mounted at /content/gdrive\n"
          ]
        }
      ]
    },
    {
      "cell_type": "code",
      "source": [
        "\n",
        "import requests\n",
        "#Adresse URL de téléchargement (directe) du modèle de Rainnet\n",
        "file_url=\"https://zenodo.org/record/3630429/files/rainnet.h5?download=1\"\n",
        "    \n",
        "r = requests.get(file_url, stream = True)\n",
        "#Ecriture du modele dans le dossier Drive\n",
        "with open(\"/content/gdrive/My Drive/rainnet.h5\", \"wb\") as file:\n",
        "    for block in r.iter_content(chunk_size = 1024):\n",
        "        if block:\n",
        "            file.write(block)"
      ],
      "metadata": {
        "id": "gw_r2_MDPF16"
      },
      "execution_count": null,
      "outputs": []
    },
    {
      "cell_type": "code",
      "execution_count": 2,
      "metadata": {
        "id": "9eKSklupLi_4",
        "colab": {
          "base_uri": "https://localhost:8080/"
        },
        "outputId": "106a6bbc-7c35-45b4-a555-348d7c95fbaf"
      },
      "outputs": [
        {
          "output_type": "stream",
          "name": "stdout",
          "text": [
            "Found GPU at: /device:GPU:0\n"
          ]
        }
      ],
      "source": [
        "import tensorflow as tf\n",
        "device_name = tf.test.gpu_device_name()\n",
        "from keras.models import load_model\n",
        "if device_name != '/device:GPU:0':\n",
        "  raise SystemError('GPU device not found')\n",
        "print('Found GPU at: {}'.format(device_name))"
      ]
    },
    {
      "cell_type": "code",
      "source": [
        "model = load_model(\"/content/gdrive/My Drive/rainnet.h5\")\n",
        "model.summary()"
      ],
      "metadata": {
        "id": "LpaHXSzwL0LM",
        "colab": {
          "base_uri": "https://localhost:8080/"
        },
        "outputId": "dcbf9db1-4cd5-4dcb-d95d-e6c3589dd878"
      },
      "execution_count": 3,
      "outputs": [
        {
          "output_type": "stream",
          "name": "stdout",
          "text": [
            "Model: \"model_1\"\n",
            "__________________________________________________________________________________________________\n",
            " Layer (type)                   Output Shape         Param #     Connected to                     \n",
            "==================================================================================================\n",
            " input_1 (InputLayer)           [(None, 928, 928, 4  0           []                               \n",
            "                                )]                                                                \n",
            "                                                                                                  \n",
            " conv2d_1 (Conv2D)              (None, 928, 928, 64  2368        ['input_1[0][0]']                \n",
            "                                )                                                                 \n",
            "                                                                                                  \n",
            " activation_1 (Activation)      (None, 928, 928, 64  0           ['conv2d_1[0][0]']               \n",
            "                                )                                                                 \n",
            "                                                                                                  \n",
            " conv2d_2 (Conv2D)              (None, 928, 928, 64  36928       ['activation_1[0][0]']           \n",
            "                                )                                                                 \n",
            "                                                                                                  \n",
            " activation_2 (Activation)      (None, 928, 928, 64  0           ['conv2d_2[0][0]']               \n",
            "                                )                                                                 \n",
            "                                                                                                  \n",
            " max_pooling2d_1 (MaxPooling2D)  (None, 464, 464, 64  0          ['activation_2[0][0]']           \n",
            "                                )                                                                 \n",
            "                                                                                                  \n",
            " conv2d_3 (Conv2D)              (None, 464, 464, 12  73856       ['max_pooling2d_1[0][0]']        \n",
            "                                8)                                                                \n",
            "                                                                                                  \n",
            " activation_3 (Activation)      (None, 464, 464, 12  0           ['conv2d_3[0][0]']               \n",
            "                                8)                                                                \n",
            "                                                                                                  \n",
            " conv2d_4 (Conv2D)              (None, 464, 464, 12  147584      ['activation_3[0][0]']           \n",
            "                                8)                                                                \n",
            "                                                                                                  \n",
            " activation_4 (Activation)      (None, 464, 464, 12  0           ['conv2d_4[0][0]']               \n",
            "                                8)                                                                \n",
            "                                                                                                  \n",
            " max_pooling2d_2 (MaxPooling2D)  (None, 232, 232, 12  0          ['activation_4[0][0]']           \n",
            "                                8)                                                                \n",
            "                                                                                                  \n",
            " conv2d_5 (Conv2D)              (None, 232, 232, 25  295168      ['max_pooling2d_2[0][0]']        \n",
            "                                6)                                                                \n",
            "                                                                                                  \n",
            " activation_5 (Activation)      (None, 232, 232, 25  0           ['conv2d_5[0][0]']               \n",
            "                                6)                                                                \n",
            "                                                                                                  \n",
            " conv2d_6 (Conv2D)              (None, 232, 232, 25  590080      ['activation_5[0][0]']           \n",
            "                                6)                                                                \n",
            "                                                                                                  \n",
            " activation_6 (Activation)      (None, 232, 232, 25  0           ['conv2d_6[0][0]']               \n",
            "                                6)                                                                \n",
            "                                                                                                  \n",
            " max_pooling2d_3 (MaxPooling2D)  (None, 116, 116, 25  0          ['activation_6[0][0]']           \n",
            "                                6)                                                                \n",
            "                                                                                                  \n",
            " conv2d_7 (Conv2D)              (None, 116, 116, 51  1180160     ['max_pooling2d_3[0][0]']        \n",
            "                                2)                                                                \n",
            "                                                                                                  \n",
            " activation_7 (Activation)      (None, 116, 116, 51  0           ['conv2d_7[0][0]']               \n",
            "                                2)                                                                \n",
            "                                                                                                  \n",
            " conv2d_8 (Conv2D)              (None, 116, 116, 51  2359808     ['activation_7[0][0]']           \n",
            "                                2)                                                                \n",
            "                                                                                                  \n",
            " activation_8 (Activation)      (None, 116, 116, 51  0           ['conv2d_8[0][0]']               \n",
            "                                2)                                                                \n",
            "                                                                                                  \n",
            " dropout_1 (Dropout)            (None, 116, 116, 51  0           ['activation_8[0][0]']           \n",
            "                                2)                                                                \n",
            "                                                                                                  \n",
            " max_pooling2d_4 (MaxPooling2D)  (None, 58, 58, 512)  0          ['dropout_1[0][0]']              \n",
            "                                                                                                  \n",
            " conv2d_9 (Conv2D)              (None, 58, 58, 1024  4719616     ['max_pooling2d_4[0][0]']        \n",
            "                                )                                                                 \n",
            "                                                                                                  \n",
            " activation_9 (Activation)      (None, 58, 58, 1024  0           ['conv2d_9[0][0]']               \n",
            "                                )                                                                 \n",
            "                                                                                                  \n",
            " conv2d_10 (Conv2D)             (None, 58, 58, 1024  9438208     ['activation_9[0][0]']           \n",
            "                                )                                                                 \n",
            "                                                                                                  \n",
            " activation_10 (Activation)     (None, 58, 58, 1024  0           ['conv2d_10[0][0]']              \n",
            "                                )                                                                 \n",
            "                                                                                                  \n",
            " dropout_2 (Dropout)            (None, 58, 58, 1024  0           ['activation_10[0][0]']          \n",
            "                                )                                                                 \n",
            "                                                                                                  \n",
            " up_sampling2d_1 (UpSampling2D)  (None, 116, 116, 10  0          ['dropout_2[0][0]']              \n",
            "                                24)                                                               \n",
            "                                                                                                  \n",
            " concatenate_1 (Concatenate)    (None, 116, 116, 15  0           ['up_sampling2d_1[0][0]',        \n",
            "                                36)                               'activation_8[0][0]']           \n",
            "                                                                                                  \n",
            " conv2d_11 (Conv2D)             (None, 116, 116, 51  7078400     ['concatenate_1[0][0]']          \n",
            "                                2)                                                                \n",
            "                                                                                                  \n",
            " activation_11 (Activation)     (None, 116, 116, 51  0           ['conv2d_11[0][0]']              \n",
            "                                2)                                                                \n",
            "                                                                                                  \n",
            " conv2d_12 (Conv2D)             (None, 116, 116, 51  2359808     ['activation_11[0][0]']          \n",
            "                                2)                                                                \n",
            "                                                                                                  \n",
            " activation_12 (Activation)     (None, 116, 116, 51  0           ['conv2d_12[0][0]']              \n",
            "                                2)                                                                \n",
            "                                                                                                  \n",
            " up_sampling2d_2 (UpSampling2D)  (None, 232, 232, 51  0          ['activation_12[0][0]']          \n",
            "                                2)                                                                \n",
            "                                                                                                  \n",
            " concatenate_2 (Concatenate)    (None, 232, 232, 76  0           ['up_sampling2d_2[0][0]',        \n",
            "                                8)                                'activation_6[0][0]']           \n",
            "                                                                                                  \n",
            " conv2d_13 (Conv2D)             (None, 232, 232, 25  1769728     ['concatenate_2[0][0]']          \n",
            "                                6)                                                                \n",
            "                                                                                                  \n",
            " activation_13 (Activation)     (None, 232, 232, 25  0           ['conv2d_13[0][0]']              \n",
            "                                6)                                                                \n",
            "                                                                                                  \n",
            " conv2d_14 (Conv2D)             (None, 232, 232, 25  590080      ['activation_13[0][0]']          \n",
            "                                6)                                                                \n",
            "                                                                                                  \n",
            " activation_14 (Activation)     (None, 232, 232, 25  0           ['conv2d_14[0][0]']              \n",
            "                                6)                                                                \n",
            "                                                                                                  \n",
            " up_sampling2d_3 (UpSampling2D)  (None, 464, 464, 25  0          ['activation_14[0][0]']          \n",
            "                                6)                                                                \n",
            "                                                                                                  \n",
            " concatenate_3 (Concatenate)    (None, 464, 464, 38  0           ['up_sampling2d_3[0][0]',        \n",
            "                                4)                                'activation_4[0][0]']           \n",
            "                                                                                                  \n",
            " conv2d_15 (Conv2D)             (None, 464, 464, 12  442496      ['concatenate_3[0][0]']          \n",
            "                                8)                                                                \n",
            "                                                                                                  \n",
            " activation_15 (Activation)     (None, 464, 464, 12  0           ['conv2d_15[0][0]']              \n",
            "                                8)                                                                \n",
            "                                                                                                  \n",
            " conv2d_16 (Conv2D)             (None, 464, 464, 12  147584      ['activation_15[0][0]']          \n",
            "                                8)                                                                \n",
            "                                                                                                  \n",
            " activation_16 (Activation)     (None, 464, 464, 12  0           ['conv2d_16[0][0]']              \n",
            "                                8)                                                                \n",
            "                                                                                                  \n",
            " up_sampling2d_4 (UpSampling2D)  (None, 928, 928, 12  0          ['activation_16[0][0]']          \n",
            "                                8)                                                                \n",
            "                                                                                                  \n",
            " concatenate_4 (Concatenate)    (None, 928, 928, 19  0           ['up_sampling2d_4[0][0]',        \n",
            "                                2)                                'activation_2[0][0]']           \n",
            "                                                                                                  \n",
            " conv2d_17 (Conv2D)             (None, 928, 928, 64  110656      ['concatenate_4[0][0]']          \n",
            "                                )                                                                 \n",
            "                                                                                                  \n",
            " activation_17 (Activation)     (None, 928, 928, 64  0           ['conv2d_17[0][0]']              \n",
            "                                )                                                                 \n",
            "                                                                                                  \n",
            " conv2d_18 (Conv2D)             (None, 928, 928, 64  36928       ['activation_17[0][0]']          \n",
            "                                )                                                                 \n",
            "                                                                                                  \n",
            " activation_18 (Activation)     (None, 928, 928, 64  0           ['conv2d_18[0][0]']              \n",
            "                                )                                                                 \n",
            "                                                                                                  \n",
            " conv2d_19 (Conv2D)             (None, 928, 928, 2)  1154        ['activation_18[0][0]']          \n",
            "                                                                                                  \n",
            " conv2d_20 (Conv2D)             (None, 928, 928, 1)  3           ['conv2d_19[0][0]']              \n",
            "                                                                                                  \n",
            "==================================================================================================\n",
            "Total params: 31,380,613\n",
            "Trainable params: 31,380,613\n",
            "Non-trainable params: 0\n",
            "__________________________________________________________________________________________________\n"
          ]
        }
      ]
    },
    {
      "cell_type": "code",
      "source": [
        "import numpy as np"
      ],
      "metadata": {
        "id": "1mdYQk5F9osJ"
      },
      "execution_count": 4,
      "outputs": []
    },
    {
      "cell_type": "code",
      "source": [
        "data = np.loadtxt('text.txt')\n",
        "data2 = np.loadtxt('text2.txt')\n",
        "data3 = np.loadtxt('text3.txt')\n",
        "data4 = np.loadtxt('text4.txt')\n"
      ],
      "metadata": {
        "id": "0KHWrkGL9tZC"
      },
      "execution_count": 7,
      "outputs": []
    },
    {
      "cell_type": "code",
      "source": [
        "#Pad de (14,14) pour obtenir des images passant de 900 à 928\n",
        "data = np.pad(data, (14,14),'constant', constant_values=(0)) \n",
        "data2 = np.pad(data2, (14,14),'constant', constant_values=(0))\n",
        "data3 = np.pad(data3, (14,14),'constant', constant_values=(0))\n",
        "data4 = np.pad(data4, (14,14),'constant', constant_values=(0))\n"
      ],
      "metadata": {
        "id": "On8ROXbMZRgX"
      },
      "execution_count": 8,
      "outputs": []
    },
    {
      "cell_type": "code",
      "source": [
        "print(data.shape)\n",
        "print(data2.shape)\n",
        "print(data3.shape)\n",
        "print(data4.shape)\n"
      ],
      "metadata": {
        "colab": {
          "base_uri": "https://localhost:8080/"
        },
        "id": "P7EvsmqP-6Nc",
        "outputId": "846d0ea1-e7c9-48a7-a201-685d3699a2ef"
      },
      "execution_count": 9,
      "outputs": [
        {
          "output_type": "stream",
          "name": "stdout",
          "text": [
            "(928, 928)\n",
            "(928, 928)\n",
            "(928, 928)\n",
            "(928, 928)\n"
          ]
        }
      ]
    },
    {
      "cell_type": "code",
      "source": [
        "full = np.zeros((4,1,928,928))"
      ],
      "metadata": {
        "id": "dYHFm2JNZmdR"
      },
      "execution_count": 10,
      "outputs": []
    },
    {
      "cell_type": "code",
      "source": [
        "full[0] = data #2009/03/09 09:35\n",
        "full[1] = data2 #2009/03/09 09:40\n",
        "full[2] = data3 #2009/03/09 09:45\n",
        "full[3] = data4 #2009/03/09 09:50"
      ],
      "metadata": {
        "id": "xU07emqFZsMH"
      },
      "execution_count": 11,
      "outputs": []
    },
    {
      "cell_type": "code",
      "source": [
        "full = full.reshape(1,928,928,4)\n",
        "#1 array of 4 x (928 x 928) "
      ],
      "metadata": {
        "id": "iw1iAqH1RNs0"
      },
      "execution_count": 12,
      "outputs": []
    },
    {
      "cell_type": "code",
      "source": [
        "data.shape"
      ],
      "metadata": {
        "colab": {
          "base_uri": "https://localhost:8080/"
        },
        "id": "51wC4nBaRRbc",
        "outputId": "8ac8b33d-ee72-4a94-fb2c-40829b068782"
      },
      "execution_count": 13,
      "outputs": [
        {
          "output_type": "execute_result",
          "data": {
            "text/plain": [
              "(928, 928)"
            ]
          },
          "metadata": {},
          "execution_count": 13
        }
      ]
    },
    {
      "cell_type": "code",
      "source": [
        "import matplotlib.pyplot as plt"
      ],
      "metadata": {
        "id": "2lK72Y9BJjjx"
      },
      "execution_count": 14,
      "outputs": []
    },
    {
      "cell_type": "code",
      "source": [
        "plt.imshow(data)\n",
        "plt.show()"
      ],
      "metadata": {
        "id": "wS6vJrf9Jny6"
      },
      "execution_count": null,
      "outputs": []
    },
    {
      "cell_type": "code",
      "source": [
        "a = model.predict(full)\n",
        "#model.summary()"
      ],
      "metadata": {
        "id": "jryS3cuaP5wt",
        "colab": {
          "base_uri": "https://localhost:8080/",
          "height": 183
        },
        "outputId": "00822559-2851-4cef-bd78-d416730bc43e"
      },
      "execution_count": 1,
      "outputs": [
        {
          "output_type": "error",
          "ename": "NameError",
          "evalue": "ignored",
          "traceback": [
            "\u001b[0;31m---------------------------------------------------------------------------\u001b[0m",
            "\u001b[0;31mNameError\u001b[0m                                 Traceback (most recent call last)",
            "\u001b[0;32m<ipython-input-1-2eeaf1ba7096>\u001b[0m in \u001b[0;36m<module>\u001b[0;34m()\u001b[0m\n\u001b[0;32m----> 1\u001b[0;31m \u001b[0ma\u001b[0m \u001b[0;34m=\u001b[0m \u001b[0mmodel\u001b[0m\u001b[0;34m.\u001b[0m\u001b[0mpredict\u001b[0m\u001b[0;34m(\u001b[0m\u001b[0mfull\u001b[0m\u001b[0;34m)\u001b[0m\u001b[0;34m\u001b[0m\u001b[0;34m\u001b[0m\u001b[0m\n\u001b[0m\u001b[1;32m      2\u001b[0m \u001b[0;31m#model.summary()\u001b[0m\u001b[0;34m\u001b[0m\u001b[0;34m\u001b[0m\u001b[0;34m\u001b[0m\u001b[0m\n",
            "\u001b[0;31mNameError\u001b[0m: name 'model' is not defined"
          ]
        }
      ]
    },
    {
      "cell_type": "code",
      "source": [
        "print(a)"
      ],
      "metadata": {
        "colab": {
          "base_uri": "https://localhost:8080/"
        },
        "id": "mWDgIZpCtwgp",
        "outputId": "d785f194-7425-4ea1-fc4d-6dd82d7a6662"
      },
      "execution_count": 31,
      "outputs": [
        {
          "output_type": "stream",
          "name": "stdout",
          "text": [
            "[[[[ 0.1260323 ]\n",
            "   [ 0.09364752]\n",
            "   [ 0.07061873]\n",
            "   ...\n",
            "   [ 0.05705769]\n",
            "   [ 0.05314478]\n",
            "   [ 0.05993225]]\n",
            "\n",
            "  [[ 0.1437814 ]\n",
            "   [ 0.07573389]\n",
            "   [ 0.06534545]\n",
            "   ...\n",
            "   [ 0.04667076]\n",
            "   [ 0.04121774]\n",
            "   [ 0.03954901]]\n",
            "\n",
            "  [[ 0.13049355]\n",
            "   [ 0.08957409]\n",
            "   [ 0.06290187]\n",
            "   ...\n",
            "   [ 0.04841559]\n",
            "   [ 0.04590864]\n",
            "   [ 0.04133736]]\n",
            "\n",
            "  ...\n",
            "\n",
            "  [[ 0.13425285]\n",
            "   [ 0.10073435]\n",
            "   [ 0.07348505]\n",
            "   ...\n",
            "   [ 0.06296891]\n",
            "   [ 0.05812809]\n",
            "   [ 0.05257019]]\n",
            "\n",
            "  [[ 0.10401088]\n",
            "   [ 0.10305621]\n",
            "   [ 0.07055643]\n",
            "   ...\n",
            "   [ 0.06511201]\n",
            "   [ 0.0612244 ]\n",
            "   [ 0.05895157]]\n",
            "\n",
            "  [[ 0.00954089]\n",
            "   [ 0.01335263]\n",
            "   [ 0.00080584]\n",
            "   ...\n",
            "   [-0.00913276]\n",
            "   [-0.02280463]\n",
            "   [-0.04115871]]]]\n"
          ]
        }
      ]
    },
    {
      "cell_type": "code",
      "source": [
        "#La prédiction t+5\n",
        "a.shape"
      ],
      "metadata": {
        "colab": {
          "base_uri": "https://localhost:8080/"
        },
        "id": "B6j2PqX0jAer",
        "outputId": "1212091e-260a-45d1-fb01-732ba69f3b54"
      },
      "execution_count": 32,
      "outputs": [
        {
          "output_type": "execute_result",
          "data": {
            "text/plain": [
              "(1, 928, 928, 1)"
            ]
          },
          "metadata": {},
          "execution_count": 32
        }
      ]
    },
    {
      "cell_type": "code",
      "source": [
        "b = a.reshape(928,928) #Pour pouvoir l'afficher\n",
        "plt.imshow(b)\n",
        "plt.show()"
      ],
      "metadata": {
        "colab": {
          "base_uri": "https://localhost:8080/",
          "height": 269
        },
        "id": "jvJXx6H3f7k1",
        "outputId": "18dab79d-77e9-4d65-f092-c5e601f3ee20"
      },
      "execution_count": 23,
      "outputs": [
        {
          "output_type": "display_data",
          "data": {
            "text/plain": [
              "<Figure size 432x288 with 1 Axes>"
            ],
            "image/png": "[encoded data removed]"
          },
          "metadata": {
            "needs_background": "light"
          }
        }
      ]
    },
    {
      "cell_type": "code",
      "source": [
        "full2 = np.zeros((4,1,928,928))"
      ],
      "metadata": {
        "id": "cYbqWn2FlWp8"
      },
      "execution_count": 24,
      "outputs": []
    },
    {
      "cell_type": "code",
      "source": [
        "data = np.loadtxt('text5.txt')\n",
        "data2 = np.loadtxt('text6.txt')\n",
        "data3 = np.loadtxt('text7.txt')\n",
        "data4 = np.loadtxt('text8.txt')"
      ],
      "metadata": {
        "id": "YZGdbP5dSigE"
      },
      "execution_count": 27,
      "outputs": []
    },
    {
      "cell_type": "code",
      "source": [
        "data = np.pad(data, (14,14),'constant', constant_values=(0)) #Pad de (14,14) pour obtenir des images passant de 900 à 928\n",
        "data2 = np.pad(data2, (14,14),'constant', constant_values=(0))\n",
        "data3 = np.pad(data3, (14,14),'constant', constant_values=(0))\n",
        "data4 = np.pad(data4, (14,14),'constant', constant_values=(0))\n",
        "\n",
        "full2[0] = data\n",
        "full2[1] = data2\n",
        "full2[2] = data3\n",
        "full2[3] = data4\n",
        "\n",
        "full2 = full2.reshape(1,928,928,4)"
      ],
      "metadata": {
        "id": "XWheZrEilH6s"
      },
      "execution_count": 28,
      "outputs": []
    },
    {
      "cell_type": "code",
      "source": [
        "model.evaluate(full, full2) "
      ],
      "metadata": {
        "colab": {
          "base_uri": "https://localhost:8080/"
        },
        "id": "MsEu86NVjq9j",
        "outputId": "ae98f8b1-3141-45f2-ed89-0bf6175a82d4"
      },
      "execution_count": 29,
      "outputs": [
        {
          "output_type": "stream",
          "name": "stdout",
          "text": [
            "1/1 [==============================] - 1s 1s/step - loss: 7.7024e-04\n"
          ]
        },
        {
          "output_type": "execute_result",
          "data": {
            "text/plain": [
              "0.0007702427101321518"
            ]
          },
          "metadata": {},
          "execution_count": 29
        }
      ]
    },
    {
      "cell_type": "code",
      "source": [
        ""
      ],
      "metadata": {
        "id": "UsHt3tQCxJuy"
      },
      "execution_count": null,
      "outputs": []
    },
    {
      "cell_type": "markdown",
      "source": [
        "# Conclusion :\n",
        "La perte est moindre ce qui fait que le modèle est efficace."
      ],
      "metadata": {
        "id": "seXxrkQ6xes1"
      }
    }
  ]
}